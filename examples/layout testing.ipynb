{
 "cells": [
  {
   "cell_type": "code",
   "execution_count": 1,
   "metadata": {
    "ExecuteTime": {
     "end_time": "2017-09-22T15:15:16.194893Z",
     "start_time": "2017-09-22T17:15:16.038477+02:00"
    }
   },
   "outputs": [],
   "source": [
    "sys.path.append('C:/Users/schick/General/git/')\n",
    "\n",
    "%load_ext autoreload\n",
    "%autoreload 2\n",
    "\n",
    "import scipy.constants as constants\n",
    "\n",
    "eV = constants.eV"
   ]
  },
  {
   "cell_type": "code",
   "execution_count": 2,
   "metadata": {
    "ExecuteTime": {
     "end_time": "2017-09-22T15:15:16.311706Z",
     "start_time": "2017-09-22T17:15:16.200910+02:00"
    }
   },
   "outputs": [],
   "source": [
    "import udkm1Dsimpy as ud"
   ]
  },
  {
   "cell_type": "code",
   "execution_count": 3,
   "metadata": {
    "ExecuteTime": {
     "end_time": "2017-09-22T15:15:16.450069Z",
     "start_time": "2017-09-22T17:15:16.314710+02:00"
    }
   },
   "outputs": [
    {
     "name": "stdout",
     "output_type": "stream",
     "text": [
      "Atom with the following properties\n",
      "ID                 : dy123\n",
      "symbol             : Dy\n",
      "name               : Dysprosium\n",
      "atomic number Z    : 66.00\n",
      "mass number   A    : 162.50 u\n",
      "mass               : 2.70e-25 kg\n",
      "ionicity           : 0.00\n",
      "Cromer Mann coeff  : [  66.          0.         26.507      17.6383     14.5596      2.96577\n",
      "    2.1802      0.202172   12.1899    111.874       4.29728 ]\n",
      "\n",
      "(56.219752673483725-9.926811669658887j)\n",
      "(50.0432210641-9.92681166966j)\n"
     ]
    }
   ],
   "source": [
    "Dy = ud.atom('Dy', ID='dy123')\n",
    "print(Dy)\n",
    "\n",
    "en = 8047*eV\n",
    "qz = 1*constants.angstrom**-1\n",
    "\n",
    "print(Dy.getAtomicFormFactor(en))\n",
    "print(Dy.getCMAtomicFormFactor(en,qz))"
   ]
  },
  {
   "cell_type": "code",
   "execution_count": 4,
   "metadata": {
    "ExecuteTime": {
     "end_time": "2017-09-22T15:15:16.594956Z",
     "start_time": "2017-09-22T17:15:16.454084+02:00"
    }
   },
   "outputs": [
    {
     "name": "stdout",
     "output_type": "stream",
     "text": [
      "Atom with the following properties\n",
      "ID                 : Tb\n",
      "symbol             : Tb\n",
      "name               : Terbium\n",
      "atomic number Z    : 65.00\n",
      "mass number   A    : 158.93 u\n",
      "mass               : 2.64e-25 kg\n",
      "ionicity           : 0.00\n",
      "Cromer Mann coeff  : [  65.          0.         25.8976     18.2185     14.3167      2.95354\n",
      "    2.24256     0.196143   12.6648    115.362       3.58324 ]\n",
      "\n",
      "(55.833947084536725-9.205449111700883j)\n",
      "(49.8350093997-9.2054491117j)\n"
     ]
    }
   ],
   "source": [
    "Tb = ud.atom('Tb')\n",
    "print(Tb)\n",
    "\n",
    "print(Tb.getAtomicFormFactor(en))\n",
    "print(Tb.getCMAtomicFormFactor(en,qz))"
   ]
  },
  {
   "cell_type": "code",
   "execution_count": 5,
   "metadata": {
    "ExecuteTime": {
     "end_time": "2017-09-22T15:15:16.730318Z",
     "start_time": "2017-09-22T17:15:16.598468+02:00"
    }
   },
   "outputs": [
    {
     "name": "stdout",
     "output_type": "stream",
     "text": [
      "Atom with the following properties\n",
      "ID                 : 123213\n",
      "symbol             : DyTb\n",
      "name               : some alloy\n",
      "atomic number Z    : 65.40\n",
      "mass number   A    : 160.36 u\n",
      "mass               : 2.66e-25 kg\n",
      "ionicity           : 0.00\n",
      "Cromer Mann coeff  : []\n",
      "2 Constituents:\n",
      "\t Dysprosium \t 40.00%\n",
      "\t Terbium \t 60.00%\n",
      "\n",
      "(55.98826932011552-9.493994134884085j)\n",
      "(49.9182940654-9.49399413488j)\n"
     ]
    }
   ],
   "source": [
    "DyTb = ud.atomMixed('DyTb', name='some alloy', ID='123213')\n",
    "\n",
    "# print(dyTb)\n",
    "\n",
    "DyTb.name\n",
    "\n",
    "DyTb.addAtom(Dy, 0.4)\n",
    "DyTb.addAtom(Tb, 0.6)\n",
    "\n",
    "print(DyTb)\n",
    "print(DyTb.getAtomicFormFactor(en))\n",
    "print(DyTb.getCMAtomicFormFactor(en,qz))"
   ]
  }
 ],
 "metadata": {
  "hide_input": false,
  "kernelspec": {
   "display_name": "Python 3",
   "language": "python",
   "name": "python3"
  },
  "language_info": {
   "codemirror_mode": {
    "name": "ipython",
    "version": 3
   },
   "file_extension": ".py",
   "mimetype": "text/x-python",
   "name": "python",
   "nbconvert_exporter": "python",
   "pygments_lexer": "ipython3",
   "version": "3.6.1"
  },
  "toc": {
   "colors": {
    "hover_highlight": "#DAA520",
    "navigate_num": "#000000",
    "navigate_text": "#333333",
    "running_highlight": "#FF0000",
    "selected_highlight": "#FFD700",
    "sidebar_border": "#EEEEEE",
    "wrapper_background": "#FFFFFF"
   },
   "moveMenuLeft": true,
   "nav_menu": {
    "height": "4px",
    "width": "254px"
   },
   "navigate_menu": true,
   "number_sections": false,
   "sideBar": true,
   "threshold": "6",
   "toc_cell": false,
   "toc_section_display": "none",
   "toc_window_display": false,
   "widenNotebook": false
  }
 },
 "nbformat": 4,
 "nbformat_minor": 2
}
